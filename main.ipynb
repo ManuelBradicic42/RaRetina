{
 "cells": [
  {
   "cell_type": "code",
   "execution_count": 1,
   "metadata": {},
   "outputs": [
    {
     "name": "stderr",
     "output_type": "stream",
     "text": [
      "/vol/research/TopDownVideo/mb01761/conda/.conda/envs/torch-kernel/lib/python3.10/site-packages/tqdm/auto.py:22: TqdmWarning: IProgress not found. Please update jupyter and ipywidgets. See https://ipywidgets.readthedocs.io/en/stable/user_install.html\n",
      "  from .autonotebook import tqdm as notebook_tqdm\n"
     ]
    }
   ],
   "source": [
    "import torch\n",
    "import sys\n",
    "import argparse\n",
    "\n",
    "from train import *"
   ]
  },
  {
   "cell_type": "code",
   "execution_count": 2,
   "metadata": {},
   "outputs": [],
   "source": [
    "DATA_PATH = ['/vol/research/Neurocomp/mb01761/datasets/Duke_uni_complementary_data/Control/', \n",
    "            '/vol/research/Neurocomp/mb01761/datasets/Duke_uni_complementary_data/AMD/']"
   ]
  },
  {
   "cell_type": "code",
   "execution_count": null,
   "metadata": {},
   "outputs": [
    {
     "name": "stderr",
     "output_type": "stream",
     "text": [
      "Epoch 0: : 50batch [00:42,  1.19batch/s, loss=0.583]                            \n"
     ]
    },
    {
     "name": "stdout",
     "output_type": "stream",
     "text": [
      "Epoch [0]\n",
      "\n",
      "Mean Loss DICE on train: 2.3774368949234486\n",
      "\n",
      "Val Mean Loss DICE on train: 0.5827625058591366\n",
      "\n",
      "Val IOU: 0.2068091802760193\n"
     ]
    },
    {
     "name": "stderr",
     "output_type": "stream",
     "text": [
      "Epoch 1: : 50batch [00:33,  1.47batch/s, loss=0.509]                            \n"
     ]
    },
    {
     "name": "stdout",
     "output_type": "stream",
     "text": [
      "Epoch [1]\n",
      "\n",
      "Mean Loss DICE on train: 2.2142196781933308\n",
      "\n",
      "Val Mean Loss DICE on train: 0.5089702494442463\n",
      "\n",
      "Val IOU: 0.3456644934629158\n"
     ]
    },
    {
     "name": "stderr",
     "output_type": "stream",
     "text": [
      "Epoch 2: : 50batch [00:28,  3.43batch/s, loss=0.311]                            "
     ]
    }
   ],
   "source": [
    "\n",
    "# (1) Selecting specific GPU; (2) Selecting multiple GPUs as working units\n",
    "# device = torch.device('cuda:0' if torch.cuda.is_available() else 'cpu')\n",
    "device = torch.device(\"cuda\" if torch.cuda.is_available() else \"cpu\")\n",
    "\n",
    "ttp = TTPipeline(\n",
    "    dataset_path = DATA_PATH,\n",
    "    model_path = None,\n",
    "    device = device\n",
    ")\n",
    "\n",
    "ttp.train()\n",
    "\n",
    "# elif parser.mode == \"evaluate\":\n",
    "#     ttp\n",
    "\n",
    "# elif parser.mode == \"simulate\":\n",
    "#     ttp"
   ]
  },
  {
   "cell_type": "code",
   "execution_count": null,
   "metadata": {},
   "outputs": [],
   "source": [
    "ttp.train_df.iloc[15]"
   ]
  },
  {
   "cell_type": "code",
   "execution_count": null,
   "metadata": {},
   "outputs": [],
   "source": []
  }
 ],
 "metadata": {
  "kernelspec": {
   "display_name": "Python 3 (ipykernel)",
   "language": "python",
   "name": "python3"
  },
  "language_info": {
   "codemirror_mode": {
    "name": "ipython",
    "version": 3
   },
   "file_extension": ".py",
   "mimetype": "text/x-python",
   "name": "python",
   "nbconvert_exporter": "python",
   "pygments_lexer": "ipython3",
   "version": "3.10.8"
  },
  "vscode": {
   "interpreter": {
    "hash": "31f2aee4e71d21fbe5cf8b01ff0e069b9275f58929596ceb00d14d90e3e16cd6"
   }
  }
 },
 "nbformat": 4,
 "nbformat_minor": 2
}
