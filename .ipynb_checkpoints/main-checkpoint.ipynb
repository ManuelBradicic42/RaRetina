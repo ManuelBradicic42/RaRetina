{
 "cells": [
  {
   "cell_type": "code",
   "execution_count": 1,
   "metadata": {},
   "outputs": [
    {
     "name": "stderr",
     "output_type": "stream",
     "text": [
      "/vol/research/TopDownVideo/mb01761/conda/.conda/envs/torch-kernel/lib/python3.10/site-packages/tqdm/auto.py:22: TqdmWarning: IProgress not found. Please update jupyter and ipywidgets. See https://ipywidgets.readthedocs.io/en/stable/user_install.html\n",
      "  from .autonotebook import tqdm as notebook_tqdm\n"
     ]
    }
   ],
   "source": [
    "import torch\n",
    "import sys\n",
    "import argparse\n",
    "\n",
    "from train import *"
   ]
  },
  {
   "cell_type": "code",
   "execution_count": 2,
   "metadata": {},
   "outputs": [],
   "source": [
    "DATA_PATH = ['/vol/research/Neurocomp/mb01761/datasets/Duke_uni_complementary_data/Control/', \n",
    "            '/vol/research/Neurocomp/mb01761/datasets/Duke_uni_complementary_data/AMD/']"
   ]
  },
  {
   "cell_type": "code",
   "execution_count": 5,
   "metadata": {},
   "outputs": [
    {
     "ename": "AttributeError",
     "evalue": "'TTPipeline' object has no attribute 'train_dataloader'",
     "output_type": "error",
     "traceback": [
      "\u001b[0;31m---------------------------------------------------------------------------\u001b[0m",
      "\u001b[0;31mAttributeError\u001b[0m                            Traceback (most recent call last)",
      "Cell \u001b[0;32mIn [5], line 11\u001b[0m\n\u001b[1;32m      3\u001b[0m device \u001b[38;5;241m=\u001b[39m torch\u001b[38;5;241m.\u001b[39mdevice(\u001b[38;5;124m\"\u001b[39m\u001b[38;5;124mcuda\u001b[39m\u001b[38;5;124m\"\u001b[39m \u001b[38;5;28;01mif\u001b[39;00m torch\u001b[38;5;241m.\u001b[39mcuda\u001b[38;5;241m.\u001b[39mis_available() \u001b[38;5;28;01melse\u001b[39;00m \u001b[38;5;124m\"\u001b[39m\u001b[38;5;124mcpu\u001b[39m\u001b[38;5;124m\"\u001b[39m)\n\u001b[1;32m      5\u001b[0m ttp \u001b[38;5;241m=\u001b[39m TTPipeline(\n\u001b[1;32m      6\u001b[0m     dataset_path \u001b[38;5;241m=\u001b[39m DATA_PATH,\n\u001b[1;32m      7\u001b[0m     model_path \u001b[38;5;241m=\u001b[39m \u001b[38;5;28;01mNone\u001b[39;00m,\n\u001b[1;32m      8\u001b[0m     device \u001b[38;5;241m=\u001b[39m device\n\u001b[1;32m      9\u001b[0m )\n\u001b[0;32m---> 11\u001b[0m \u001b[43mttp\u001b[49m\u001b[38;5;241;43m.\u001b[39;49m\u001b[43mtrain\u001b[49m\u001b[43m(\u001b[49m\u001b[43m)\u001b[49m\n",
      "File \u001b[0;32m/vol/research/Neurocomp/mb01761/git/RaRetina/train.py:31\u001b[0m, in \u001b[0;36mTTPipeline.train\u001b[0;34m(self)\u001b[0m\n\u001b[1;32m     29\u001b[0m \u001b[38;5;28;01mdef\u001b[39;00m \u001b[38;5;21mtrain\u001b[39m(\u001b[38;5;28mself\u001b[39m):\n\u001b[1;32m     30\u001b[0m     \u001b[38;5;28;01mfor\u001b[39;00m epoch \u001b[38;5;129;01min\u001b[39;00m \u001b[38;5;28mrange\u001b[39m(cfg\u001b[38;5;241m.\u001b[39mepoch):\n\u001b[0;32m---> 31\u001b[0m         \u001b[38;5;28;01mwith\u001b[39;00m tqdm(\u001b[38;5;28;43mself\u001b[39;49m\u001b[38;5;241;43m.\u001b[39;49m\u001b[43mtrain_dataloader\u001b[49m, unit\u001b[38;5;241m=\u001b[39m\u001b[38;5;124m\"\u001b[39m\u001b[38;5;124mbatch\u001b[39m\u001b[38;5;124m\"\u001b[39m) \u001b[38;5;28;01mas\u001b[39;00m tepoch:\n\u001b[1;32m     32\u001b[0m             tepoch\u001b[38;5;241m.\u001b[39mset_description(\u001b[38;5;124mf\u001b[39m\u001b[38;5;124m\"\u001b[39m\u001b[38;5;124mEpoch \u001b[39m\u001b[38;5;132;01m{\u001b[39;00mepoch\u001b[38;5;132;01m}\u001b[39;00m\u001b[38;5;124m\"\u001b[39m)\n\u001b[1;32m     34\u001b[0m             train_loss \u001b[38;5;241m=\u001b[39m \u001b[38;5;28mself\u001b[39m\u001b[38;5;241m.\u001b[39m__loop(\u001b[38;5;28mself\u001b[39m\u001b[38;5;241m.\u001b[39mtrain_dataloader,  \u001b[38;5;28mself\u001b[39m\u001b[38;5;241m.\u001b[39mtransunet\u001b[38;5;241m.\u001b[39mtrain_step, tepoch)\n",
      "\u001b[0;31mAttributeError\u001b[0m: 'TTPipeline' object has no attribute 'train_dataloader'"
     ]
    }
   ],
   "source": [
    "\n",
    "# (1) Selecting specific GPU; (2) Selecting multiple GPUs as working units\n",
    "# device = torch.device('cuda:0' if torch.cuda.is_available() else 'cpu')\n",
    "device = torch.device(\"cuda\" if torch.cuda.is_available() else \"cpu\")\n",
    "\n",
    "ttp = TTPipeline(\n",
    "    dataset_path = DATA_PATH,\n",
    "    model_path = None,\n",
    "    device = device\n",
    ")\n",
    "\n",
    "# ttp.train()\n",
    "\n",
    "# elif parser.mode == \"evaluate\":\n",
    "#     ttp\n",
    "\n",
    "# elif parser.mode == \"simulate\":\n",
    "#     ttp"
   ]
  },
  {
   "cell_type": "code",
   "execution_count": 4,
   "metadata": {},
   "outputs": [
    {
     "data": {
      "text/html": [
       "<div>\n",
       "<style scoped>\n",
       "    .dataframe tbody tr th:only-of-type {\n",
       "        vertical-align: middle;\n",
       "    }\n",
       "\n",
       "    .dataframe tbody tr th {\n",
       "        vertical-align: top;\n",
       "    }\n",
       "\n",
       "    .dataframe thead th {\n",
       "        text-align: right;\n",
       "    }\n",
       "</style>\n",
       "<table border=\"1\" class=\"dataframe\">\n",
       "  <thead>\n",
       "    <tr style=\"text-align: right;\">\n",
       "      <th></th>\n",
       "      <th>image_path</th>\n",
       "      <th>mask_path</th>\n",
       "      <th>diagnosis</th>\n",
       "    </tr>\n",
       "  </thead>\n",
       "  <tbody>\n",
       "    <tr>\n",
       "      <th>0</th>\n",
       "      <td>/vol/research/Neurocomp/mb01761/datasets/Duke_...</td>\n",
       "      <td>/vol/research/Neurocomp/mb01761/datasets/Duke_...</td>\n",
       "      <td>1</td>\n",
       "    </tr>\n",
       "    <tr>\n",
       "      <th>1</th>\n",
       "      <td>/vol/research/Neurocomp/mb01761/datasets/Duke_...</td>\n",
       "      <td>/vol/research/Neurocomp/mb01761/datasets/Duke_...</td>\n",
       "      <td>1</td>\n",
       "    </tr>\n",
       "    <tr>\n",
       "      <th>2</th>\n",
       "      <td>/vol/research/Neurocomp/mb01761/datasets/Duke_...</td>\n",
       "      <td>/vol/research/Neurocomp/mb01761/datasets/Duke_...</td>\n",
       "      <td>1</td>\n",
       "    </tr>\n",
       "    <tr>\n",
       "      <th>3</th>\n",
       "      <td>/vol/research/Neurocomp/mb01761/datasets/Duke_...</td>\n",
       "      <td>/vol/research/Neurocomp/mb01761/datasets/Duke_...</td>\n",
       "      <td>1</td>\n",
       "    </tr>\n",
       "    <tr>\n",
       "      <th>4</th>\n",
       "      <td>/vol/research/Neurocomp/mb01761/datasets/Duke_...</td>\n",
       "      <td>/vol/research/Neurocomp/mb01761/datasets/Duke_...</td>\n",
       "      <td>1</td>\n",
       "    </tr>\n",
       "    <tr>\n",
       "      <th>...</th>\n",
       "      <td>...</td>\n",
       "      <td>...</td>\n",
       "      <td>...</td>\n",
       "    </tr>\n",
       "    <tr>\n",
       "      <th>15555</th>\n",
       "      <td>/vol/research/Neurocomp/mb01761/datasets/Duke_...</td>\n",
       "      <td>/vol/research/Neurocomp/mb01761/datasets/Duke_...</td>\n",
       "      <td>0</td>\n",
       "    </tr>\n",
       "    <tr>\n",
       "      <th>15556</th>\n",
       "      <td>/vol/research/Neurocomp/mb01761/datasets/Duke_...</td>\n",
       "      <td>/vol/research/Neurocomp/mb01761/datasets/Duke_...</td>\n",
       "      <td>0</td>\n",
       "    </tr>\n",
       "    <tr>\n",
       "      <th>15557</th>\n",
       "      <td>/vol/research/Neurocomp/mb01761/datasets/Duke_...</td>\n",
       "      <td>/vol/research/Neurocomp/mb01761/datasets/Duke_...</td>\n",
       "      <td>0</td>\n",
       "    </tr>\n",
       "    <tr>\n",
       "      <th>15558</th>\n",
       "      <td>/vol/research/Neurocomp/mb01761/datasets/Duke_...</td>\n",
       "      <td>/vol/research/Neurocomp/mb01761/datasets/Duke_...</td>\n",
       "      <td>0</td>\n",
       "    </tr>\n",
       "    <tr>\n",
       "      <th>15559</th>\n",
       "      <td>/vol/research/Neurocomp/mb01761/datasets/Duke_...</td>\n",
       "      <td>/vol/research/Neurocomp/mb01761/datasets/Duke_...</td>\n",
       "      <td>0</td>\n",
       "    </tr>\n",
       "  </tbody>\n",
       "</table>\n",
       "<p>15560 rows × 3 columns</p>\n",
       "</div>"
      ],
      "text/plain": [
       "                                              image_path  \\\n",
       "0      /vol/research/Neurocomp/mb01761/datasets/Duke_...   \n",
       "1      /vol/research/Neurocomp/mb01761/datasets/Duke_...   \n",
       "2      /vol/research/Neurocomp/mb01761/datasets/Duke_...   \n",
       "3      /vol/research/Neurocomp/mb01761/datasets/Duke_...   \n",
       "4      /vol/research/Neurocomp/mb01761/datasets/Duke_...   \n",
       "...                                                  ...   \n",
       "15555  /vol/research/Neurocomp/mb01761/datasets/Duke_...   \n",
       "15556  /vol/research/Neurocomp/mb01761/datasets/Duke_...   \n",
       "15557  /vol/research/Neurocomp/mb01761/datasets/Duke_...   \n",
       "15558  /vol/research/Neurocomp/mb01761/datasets/Duke_...   \n",
       "15559  /vol/research/Neurocomp/mb01761/datasets/Duke_...   \n",
       "\n",
       "                                               mask_path  diagnosis  \n",
       "0      /vol/research/Neurocomp/mb01761/datasets/Duke_...          1  \n",
       "1      /vol/research/Neurocomp/mb01761/datasets/Duke_...          1  \n",
       "2      /vol/research/Neurocomp/mb01761/datasets/Duke_...          1  \n",
       "3      /vol/research/Neurocomp/mb01761/datasets/Duke_...          1  \n",
       "4      /vol/research/Neurocomp/mb01761/datasets/Duke_...          1  \n",
       "...                                                  ...        ...  \n",
       "15555  /vol/research/Neurocomp/mb01761/datasets/Duke_...          0  \n",
       "15556  /vol/research/Neurocomp/mb01761/datasets/Duke_...          0  \n",
       "15557  /vol/research/Neurocomp/mb01761/datasets/Duke_...          0  \n",
       "15558  /vol/research/Neurocomp/mb01761/datasets/Duke_...          0  \n",
       "15559  /vol/research/Neurocomp/mb01761/datasets/Duke_...          0  \n",
       "\n",
       "[15560 rows x 3 columns]"
      ]
     },
     "execution_count": 4,
     "metadata": {},
     "output_type": "execute_result"
    }
   ],
   "source": [
    "ttp.dataframe"
   ]
  },
  {
   "cell_type": "code",
   "execution_count": null,
   "metadata": {},
   "outputs": [],
   "source": []
  }
 ],
 "metadata": {
  "kernelspec": {
   "display_name": "Python 3 (ipykernel)",
   "language": "python",
   "name": "python3"
  },
  "language_info": {
   "codemirror_mode": {
    "name": "ipython",
    "version": 3
   },
   "file_extension": ".py",
   "mimetype": "text/x-python",
   "name": "python",
   "nbconvert_exporter": "python",
   "pygments_lexer": "ipython3",
   "version": "3.10.8"
  },
  "vscode": {
   "interpreter": {
    "hash": "31f2aee4e71d21fbe5cf8b01ff0e069b9275f58929596ceb00d14d90e3e16cd6"
   }
  }
 },
 "nbformat": 4,
 "nbformat_minor": 2
}
